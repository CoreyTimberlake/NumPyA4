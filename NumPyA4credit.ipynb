{
  "nbformat": 4,
  "nbformat_minor": 0,
  "metadata": {
    "colab": {
      "provenance": []
    },
    "kernelspec": {
      "name": "python3",
      "display_name": "Python 3"
    },
    "language_info": {
      "name": "python"
    }
  },
  "cells": [
    {
      "cell_type": "code",
      "execution_count": 15,
      "metadata": {
        "id": "BQS4EC3herb9"
      },
      "outputs": [],
      "source": [
        "import numpy as np\n",
        "\n",
        "Q1 = np.zeros(20, dtype = float)\n",
        "#print(Q1)\n",
        "Q2 = np.ones((4,5), dtype = int)\n",
        "#print(Q2)\n",
        "Q3 = np.full((2,5), 2, dtype = float)\n",
        "#print(Q3)\n",
        "\n",
        "Q4 = np.arange(0, 50, dtype = float)\n",
        "#print(Q4)\n",
        "Q5 = np.linspace(4, 18, 9)\n",
        "#print(Q5)\n",
        "\n",
        "Q6 = np.identity(5, dtype = int)\n",
        "#print(Q6)\n",
        "\n",
        "np.random.seed(10)\n",
        "Q7 = np.random.rand(4,2)\n",
        "#print(Q7)\n",
        "\n",
        "np.random.seed(9)\n",
        "Q8 = np.random.randint(0,15, (4,2,5))\n",
        "#print(Q8)\n",
        "\n",
        "Q9 = np.size(Q8)\n",
        "#print(Q9)"
      ]
    }
  ]
}